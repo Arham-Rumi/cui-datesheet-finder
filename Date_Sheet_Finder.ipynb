{
 "cells": [
  {
   "cell_type": "code",
   "execution_count": 1,
   "id": "f2cd7c7e-a1ee-486c-938e-85a338ae57dc",
   "metadata": {},
   "outputs": [],
   "source": [
    "import pandas as pd\n",
    "# from operator import itemgetter"
   ]
  },
  {
   "cell_type": "code",
   "execution_count": 2,
   "id": "80d7af9a-b4a8-42d4-9493-a8bd7e355fb4",
   "metadata": {},
   "outputs": [],
   "source": [
    "df = pd.read_excel(\"Date_Sheet_Final_Term_Theory_Exams_FALL_2021_Final_Version.xls\", skiprows=2)\n",
    "# df = pd.read_csv(\"Date_Sheet_Final_Term_Theory_Exams_FALL_2021_Final_Version.csv\")\n",
    "# df.head(10)"
   ]
  },
  {
   "cell_type": "code",
   "execution_count": 3,
   "id": "3ff9db84-9711-4a5b-a3a4-0a8235d303a9",
   "metadata": {},
   "outputs": [],
   "source": [
    "df.dropna(axis=1, how='all', inplace=True)\n",
    "df[['Date','Time']] = df[['Date','Time']].fillna(method='ffill')\n",
    "df.fillna('', inplace=True)\n",
    "df.drop(columns=['Date.1', 'Time.1', 'Date.2', 'Time.2'], inplace=True)\n",
    "# df.head(10)"
   ]
  },
  {
   "cell_type": "code",
   "execution_count": 4,
   "id": "52db7f54-7d2f-45bf-8917-6d2ef7656bc2",
   "metadata": {},
   "outputs": [
    {
     "name": "stdin",
     "output_type": "stream",
     "text": [
      "Enter Your Class and Section fa18-bse-a\n"
     ]
    }
   ],
   "source": [
    "class_section = input(\"Enter Your Class and Section\").upper()"
   ]
  },
  {
   "cell_type": "code",
   "execution_count": 5,
   "id": "e5e7c979-f807-4717-8170-3fb748209382",
   "metadata": {},
   "outputs": [
    {
     "data": {
      "text/html": [
       "<div>\n",
       "<style scoped>\n",
       "    .dataframe tbody tr th:only-of-type {\n",
       "        vertical-align: middle;\n",
       "    }\n",
       "\n",
       "    .dataframe tbody tr th {\n",
       "        vertical-align: top;\n",
       "    }\n",
       "\n",
       "    .dataframe thead th {\n",
       "        text-align: right;\n",
       "    }\n",
       "</style>\n",
       "<table border=\"1\" class=\"dataframe\">\n",
       "  <thead>\n",
       "    <tr style=\"text-align: right;\">\n",
       "      <th></th>\n",
       "      <th>Date</th>\n",
       "      <th>Time</th>\n",
       "      <th>Room</th>\n",
       "    </tr>\n",
       "  </thead>\n",
       "  <tbody>\n",
       "    <tr>\n",
       "      <th>0</th>\n",
       "      <td>Tuesday 04-01-2022</td>\n",
       "      <td>0100-0400</td>\n",
       "      <td>C 2.4 (49)</td>\n",
       "    </tr>\n",
       "    <tr>\n",
       "      <th>1</th>\n",
       "      <td>Friday 07-01-2022</td>\n",
       "      <td>0900-1200</td>\n",
       "      <td>C 1 (49)</td>\n",
       "    </tr>\n",
       "    <tr>\n",
       "      <th>2</th>\n",
       "      <td>Monday 10-01-2022</td>\n",
       "      <td>0100-0400</td>\n",
       "      <td>C 4 (49)</td>\n",
       "    </tr>\n",
       "    <tr>\n",
       "      <th>3</th>\n",
       "      <td>Wednesday 12-01-2022</td>\n",
       "      <td>0900-1200</td>\n",
       "      <td>C 2.4 (49)</td>\n",
       "    </tr>\n",
       "  </tbody>\n",
       "</table>\n",
       "</div>"
      ],
      "text/plain": [
       "                   Date       Time        Room\n",
       "0    Tuesday 04-01-2022  0100-0400  C 2.4 (49)\n",
       "1     Friday 07-01-2022  0900-1200    C 1 (49)\n",
       "2     Monday 10-01-2022  0100-0400    C 4 (49)\n",
       "3  Wednesday 12-01-2022  0900-1200  C 2.4 (49)"
      ]
     },
     "execution_count": 5,
     "metadata": {},
     "output_type": "execute_result"
    }
   ],
   "source": [
    "col_list = list(df.columns)\n",
    "\n",
    "s = ''\n",
    "\n",
    "for col in col_list:\n",
    "    if col != 'Date' or col != 'Time':\n",
    "        s += df[col]\n",
    "\n",
    "new_df = df[s.str.contains(class_section)]\n",
    "new_df_list = new_df.to_dict(orient='records')\n",
    "\n",
    "def get_room(cls_sec, my_dict):\n",
    "    for key, value in my_dict.items():\n",
    "         if cls_sec == value:\n",
    "            return key\n",
    "    return f\"Check Your Date Sheet\"\n",
    "\n",
    "big_list = []\n",
    "\n",
    "for rec in new_df_list:\n",
    "    temp_dict = {}\n",
    "    temp_dict['Date'] = rec['Date']\n",
    "    temp_dict['Time'] = rec['Time']\n",
    "    temp_dict['Room'] = get_room(class_section, rec)\n",
    "\n",
    "    big_list.append(temp_dict)\n",
    "    \n",
    "final_df = pd.DataFrame(big_list)\n",
    "final_df"
   ]
  }
 ],
 "metadata": {
  "kernelspec": {
   "display_name": "Python 3 (ipykernel)",
   "language": "python",
   "name": "python3"
  },
  "language_info": {
   "codemirror_mode": {
    "name": "ipython",
    "version": 3
   },
   "file_extension": ".py",
   "mimetype": "text/x-python",
   "name": "python",
   "nbconvert_exporter": "python",
   "pygments_lexer": "ipython3",
   "version": "3.9.7"
  }
 },
 "nbformat": 4,
 "nbformat_minor": 5
}
